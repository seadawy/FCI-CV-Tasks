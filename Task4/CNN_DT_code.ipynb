{
 "cells": [
  {
   "cell_type": "code",
   "execution_count": 1,
   "id": "c83ac403-5e9b-48fa-8057-b97d89edb6aa",
   "metadata": {},
   "outputs": [],
   "source": [
    "from tensorflow.keras.preprocessing.image import ImageDataGenerator\n",
    "from keras.models import Sequential\n",
    "from keras.layers import Conv2D, MaxPooling2D, Activation, Dropout, Flatten, Dense\n",
    "from sklearn.tree import DecisionTreeClassifier\n",
    "from sklearn.metrics import accuracy_score\n",
    "import numpy as np\n",
    "import joblib"
   ]
  },
  {
   "cell_type": "code",
   "execution_count": null,
   "id": "31f604d4-9ce0-4718-8fe5-b8d470d0ef62",
   "metadata": {},
   "outputs": [],
   "source": [
    "train_dir = 'D:/ComputerVision/Task4/Alzheimer_s Dataset/Alzheimer_s Dataset/train'  \n",
    "test_dir = 'D:/ComputerVision/Task4/Alzheimer_s Dataset/Alzheimer_s Dataset/test'"
   ]
  },
  {
   "cell_type": "code",
   "execution_count": 3,
   "id": "7d455f52-b524-4c89-9c24-91e3ec8a7c68",
   "metadata": {},
   "outputs": [],
   "source": [
    "# Set the input shape\n",
    "input_shape = (128, 128, 3)\n",
    "batch_size = 32"
   ]
  },
  {
   "cell_type": "code",
   "execution_count": 4,
   "id": "d63cdba8-3e7a-431a-92e5-d1f70fc35738",
   "metadata": {},
   "outputs": [],
   "source": [
    "# Use ImageDataGenerator for data augmentation\n",
    "data_generator = ImageDataGenerator(rescale=1./255)"
   ]
  },
  {
   "cell_type": "code",
   "execution_count": null,
   "id": "9d2f323d-243b-48bb-8520-065ba170bc5d",
   "metadata": {},
   "outputs": [],
   "source": [
    "# Load the training images\n",
    "train_generator = data_generator.flow_from_directory(\n",
    "    train_dir,\n",
    "    target_size=(input_shape[0], input_shape[1]),\n",
    "    batch_size=batch_size,\n",
    "    class_mode='categorical',\n",
    "    shuffle=False)"
   ]
  },
  {
   "cell_type": "code",
   "execution_count": null,
   "id": "e2d8a27c-6771-4170-b54a-0294cf49b0f2",
   "metadata": {},
   "outputs": [],
   "source": [
    "# Load the test images\n",
    "test_generator = data_generator.flow_from_directory(\n",
    "    test_dir,\n",
    "    target_size=(input_shape[0], input_shape[1]),\n",
    "    batch_size=batch_size,\n",
    "    class_mode='categorical',\n",
    "    shuffle=False)"
   ]
  },
  {
   "cell_type": "code",
   "execution_count": null,
   "id": "8969e01f-4dc2-46d0-8e97-48a3e7988567",
   "metadata": {},
   "outputs": [],
   "source": [
    "# Define the model architecture up to the feature extraction layer\n",
    "model = Sequential([\n",
    "    Conv2D(32, (3, 3), input_shape=input_shape),\n",
    "    Activation('relu'),\n",
    "    MaxPooling2D(pool_size=(2, 2)),\n",
    "    Conv2D(64, (3, 3)),\n",
    "    Activation('relu'),\n",
    "    MaxPooling2D(pool_size=(2, 2)),\n",
    "    Flatten(),\n",
    "    Dense(64),\n",
    "    Activation('relu'),\n",
    "    Dropout(0.5)\n",
    "])"
   ]
  },
  {
   "cell_type": "code",
   "execution_count": null,
   "id": "15b33357-3bf0-48f8-ba4f-d6e35e2cf79d",
   "metadata": {},
   "outputs": [],
   "source": [
    "# Extract features from training images \n",
    "train_features = model.predict(train_generator)\n",
    "train_features = train_features.reshape(train_features.shape[0], -1)  # Flatten features for classifier\n",
    "train_labels = train_generator.classes"
   ]
  },
  {
   "cell_type": "code",
   "execution_count": null,
   "id": "6f95e9df-43d5-4ca6-bee4-8e2121f79c38",
   "metadata": {},
   "outputs": [],
   "source": [
    "# Extract features from test images \n",
    "test_features = model.predict(test_generator)\n",
    "test_features = test_features.reshape(test_features.shape[0], -1)\n",
    "test_labels = test_generator.classes"
   ]
  },
  {
   "cell_type": "code",
   "execution_count": null,
   "id": "a291a340-45de-4559-baa2-15fb14020504",
   "metadata": {},
   "outputs": [],
   "source": [
    "# Use Decision Tree classifier instead of SVM\n",
    "dt_classifier = DecisionTreeClassifier(\n",
    "    criterion='gini',         \n",
    "    max_depth=5)\n",
    "dt_classifier.fit(train_features, train_labels)\n",
    "\n"
   ]
  },
  {
   "cell_type": "code",
   "execution_count": 11,
   "id": "000f2474-9971-4c7a-9082-bec0c351bfb6",
   "metadata": {},
   "outputs": [],
   "source": [
    "# Make predictions on the test data\n",
    "test_predictions = dt_classifier.predict(test_features)"
   ]
  },
  {
   "cell_type": "code",
   "execution_count": null,
   "id": "a4704bc3-3fa8-43e6-8f94-411dd6989071",
   "metadata": {},
   "outputs": [],
   "source": [
    "# Calculate accuracy\n",
    "test_accuracy = accuracy_score(test_labels, test_predictions)\n",
    "print(f\"Test Accuracy: {test_accuracy * 100:.2f}%\")\n"
   ]
  },
  {
   "cell_type": "code",
   "execution_count": null,
   "id": "3d13b6c7-29b6-4bef-9c52-b9cec5da6162",
   "metadata": {},
   "outputs": [],
   "source": [
    "# Save the Keras CNN model as an .h5 file\n",
    "model.save('cnn_feature_extractor4.h5')\n"
   ]
  },
  {
   "cell_type": "code",
   "execution_count": null,
   "id": "c8cadfff-ad8c-43ad-9d7b-ec71e99f21e2",
   "metadata": {},
   "outputs": [],
   "source": [
    "# Save the trained Decision Tree model\n",
    "joblib.dump(dt_classifier, 'dt_classifier.pkl')"
   ]
  },
  {
   "cell_type": "code",
   "execution_count": null,
   "id": "c160ecfa-ad4e-4c0c-9580-74c766517a75",
   "metadata": {},
   "outputs": [],
   "source": [
    "from keras.models import load_model\n",
    "import joblib\n",
    "import numpy as np\n",
    "from tensorflow.keras.preprocessing import image\n",
    "\n",
    "# Load the saved models\n",
    "cnn_model = load_model('D:/ComputerVision/Task4/DTboost/cnn_feature_extractor4.h5')\n",
    "dt_classifier = joblib.load('D:/ComputerVision/Task4/DTboost/dt_classifier.pkl')\n",
    "\n",
    "def classify_image(img_path):\n",
    "    # Load and preprocess the new image\n",
    "    img = image.load_img(img_path, target_size=(128, 128))  # Resize to match the CNN input\n",
    "    img_array = image.img_to_array(img)\n",
    "    img_array = np.expand_dims(img_array, axis=0)  # Add batch dimension\n",
    "    img_array /= 255.0  # Normalize to match the training preprocessing\n",
    "\n",
    "    # Extract features using the CNN model\n",
    "    features = cnn_model.predict(img_array)\n",
    "    features = features.reshape(1, -1)  # Flatten to 1D for dt\n",
    "\n",
    "    # Classify the features with the dt model\n",
    "    prediction = dt_classifier.predict(features)\n",
    "    \n",
    "    # Interpret the prediction\n",
    "    class_labels = {0: 'MildDemented', 1: 'ModerateDemented',2: 'NonDemented',3:'VeryMildDemented'}  # Adjust based on your dataset labels\n",
    "    result = class_labels[prediction[0]]\n",
    "    return result\n",
    "\n",
    "# Test the function with a new image\n",
    "img_path = \"D:/ComputerVision/Task4/Alzheimer_s Dataset/Alzheimer_s Dataset/test/NonDemented/26 (88).jpg\"\n",
    "result = classify_image(img_path)\n",
    "print(f\"The image is classified as: {result}\")\n"
   ]
  }
 ],
 "metadata": {
  "kernelspec": {
   "display_name": "Python 3",
   "language": "python",
   "name": "python3"
  },
  "language_info": {
   "codemirror_mode": {
    "name": "ipython",
    "version": 3
   },
   "file_extension": ".py",
   "mimetype": "text/x-python",
   "name": "python",
   "nbconvert_exporter": "python",
   "pygments_lexer": "ipython3",
   "version": "3.12.7"
  }
 },
 "nbformat": 4,
 "nbformat_minor": 5
}

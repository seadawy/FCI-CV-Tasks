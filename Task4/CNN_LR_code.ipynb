{
 "cells": [
  {
   "cell_type": "code",
   "execution_count": 1,
   "id": "eac95f8d-40a4-43c9-bffe-89cb2e41114c",
   "metadata": {},
   "outputs": [],
   "source": [
    "from tensorflow.keras.preprocessing.image import ImageDataGenerator\n",
    "from keras.models import Sequential\n",
    "from keras.layers import Conv2D, MaxPooling2D, Activation, Dropout, Flatten, Dense\n",
    "from sklearn.linear_model import LogisticRegression\n",
    "from sklearn.metrics import accuracy_score\n",
    "import numpy as np\n",
    "import joblib"
   ]
  },
  {
   "cell_type": "code",
   "execution_count": 2,
   "id": "9a54c1a3-ba1a-48b9-903a-bed11eaeff2d",
   "metadata": {},
   "outputs": [],
   "source": [
    "train_dir = 'D:/ComputerVision/Task4/Alzheimer_s Dataset/Alzheimer_s Dataset/train'  \n",
    "test_dir = 'D:/ComputerVision/Task4/Alzheimer_s Dataset/Alzheimer_s Dataset/test'   "
   ]
  },
  {
   "cell_type": "code",
   "execution_count": 3,
   "id": "7377c505-56be-46ce-ad32-f5eeca1a6286",
   "metadata": {},
   "outputs": [],
   "source": [
    "# Set the input shape\n",
    "input_shape = (128, 128, 3)\n",
    "batch_size = 32"
   ]
  },
  {
   "cell_type": "code",
   "execution_count": 4,
   "id": "aa9ad234-9928-4961-a696-d8a22008f527",
   "metadata": {},
   "outputs": [],
   "source": [
    "# Use ImageDataGenerator for data augmentation\n",
    "data_generator = ImageDataGenerator(rescale=1./255)"
   ]
  },
  {
   "cell_type": "code",
   "execution_count": null,
   "id": "c5e3f486-9475-4bbe-9d7e-7f88b197ba53",
   "metadata": {},
   "outputs": [],
   "source": [
    "# Load the training images\n",
    "train_generator = data_generator.flow_from_directory(\n",
    "    train_dir,\n",
    "    target_size=(input_shape[0], input_shape[1]),\n",
    "    batch_size=batch_size,\n",
    "    class_mode='categorical',\n",
    "    shuffle=False)"
   ]
  },
  {
   "cell_type": "code",
   "execution_count": null,
   "id": "3678b558-63a4-4fa3-8cb4-df72d25872ca",
   "metadata": {},
   "outputs": [],
   "source": [
    "# Load the test images\n",
    "test_generator = data_generator.flow_from_directory(\n",
    "    test_dir,\n",
    "    target_size=(input_shape[0], input_shape[1]),\n",
    "    batch_size=batch_size,\n",
    "    class_mode='categorical',\n",
    "    shuffle=False)"
   ]
  },
  {
   "cell_type": "code",
   "execution_count": null,
   "id": "0c7e4c78-ad04-491c-9057-61b9d995bf79",
   "metadata": {},
   "outputs": [],
   "source": [
    "# Define the model architecture up to the feature extraction layer\n",
    "model = Sequential([\n",
    "    Conv2D(32, (3, 3), input_shape=input_shape),\n",
    "    Activation('relu'),\n",
    "    MaxPooling2D(pool_size=(2, 2)),\n",
    "    Conv2D(64, (3, 3)),\n",
    "    Activation('relu'),\n",
    "    MaxPooling2D(pool_size=(2, 2)),\n",
    "    Flatten(),\n",
    "    Dense(64),\n",
    "    Activation('relu'),\n",
    "    Dropout(0.5)\n",
    "])"
   ]
  },
  {
   "cell_type": "code",
   "execution_count": null,
   "id": "be511e29-1179-4ef6-a164-35910a68edda",
   "metadata": {},
   "outputs": [],
   "source": [
    "# Extract features from training images \n",
    "train_features = model.predict(train_generator)\n",
    "train_features = train_features.reshape(train_features.shape[0], -1)  # Flatten features for LR\n",
    "train_labels = train_generator.classes\n"
   ]
  },
  {
   "cell_type": "code",
   "execution_count": null,
   "id": "8394282f-7013-4967-b938-95077079e03f",
   "metadata": {},
   "outputs": [],
   "source": [
    "# Extract features from test images \n",
    "test_features = model.predict(test_generator)\n",
    "test_features = test_features.reshape(test_features.shape[0], -1)\n",
    "test_labels = test_generator.classes\n"
   ]
  },
  {
   "cell_type": "code",
   "execution_count": null,
   "id": "60b6c132-fdd3-429d-ab18-7256857feb0d",
   "metadata": {},
   "outputs": [],
   "source": [
    "# Train Logistic Regression classifier\n",
    "lr_classifier = LogisticRegression( \n",
    "    max_iter=1000,\n",
    "    C=1.0,\n",
    "    solver='lbfgs',\n",
    "    penalty='l2')\n",
    "lr_classifier.fit(train_features, train_labels)\n"
   ]
  },
  {
   "cell_type": "code",
   "execution_count": 11,
   "id": "a13a1c91-036c-4948-829b-a2edfa6932bd",
   "metadata": {},
   "outputs": [],
   "source": [
    "# Make predictions on the test data\n",
    "test_predictions = lr_classifier.predict(test_features)"
   ]
  },
  {
   "cell_type": "code",
   "execution_count": null,
   "id": "eddeb728-9f10-4bf9-85e2-9688ec21d62b",
   "metadata": {},
   "outputs": [],
   "source": [
    "# Calculate accuracy\n",
    "test_accuracy = accuracy_score(test_labels, test_predictions)\n",
    "print(f\"Test Accuracy: {test_accuracy * 100:.2f}%\")"
   ]
  },
  {
   "cell_type": "code",
   "execution_count": null,
   "id": "b8de3c5a-6db8-4723-940c-93a2cdc3536f",
   "metadata": {},
   "outputs": [],
   "source": [
    "# Save the Keras CNN model as an .h5 file\n",
    "model.save('cnn_feature_extractor3.h5')"
   ]
  },
  {
   "cell_type": "code",
   "execution_count": null,
   "id": "808e1c4f-43e0-46a0-8a4b-518ffe76a51f",
   "metadata": {},
   "outputs": [],
   "source": [
    "# Save the trained Logistic Regression model\n",
    "joblib.dump(lr_classifier, 'lr_classifier.pkl')"
   ]
  },
  {
   "cell_type": "code",
   "execution_count": null,
   "id": "4a16f1f2-d676-4544-9f54-4fe72b53c75d",
   "metadata": {},
   "outputs": [],
   "source": [
    "from keras.models import load_model\n",
    "import joblib\n",
    "import numpy as np\n",
    "from tensorflow.keras.preprocessing import image\n",
    "\n",
    "# Load the saved models\n",
    "cnn_model = load_model('D:/ComputerVision/Task4/LR/cnn_feature_extractor3.h5')\n",
    "lr_classifier = joblib.load(\"D:/ComputerVision/Task4/LR/lr_classifier.pkl\")\n",
    "\n",
    "def classify_image(img_path):\n",
    "    # Load and preprocess the new image\n",
    "    img = image.load_img(img_path, target_size=(128, 128))  # Resize to match the CNN input\n",
    "    img_array = image.img_to_array(img)\n",
    "    img_array = np.expand_dims(img_array, axis=0)  # Add batch dimension\n",
    "    img_array /= 255.0  # Normalize to match the training preprocessing\n",
    "\n",
    "    # Extract features using the CNN model\n",
    "    features = cnn_model.predict(img_array)\n",
    "    features = features.reshape(1, -1)  # Flatten to 1D for lr\n",
    "\n",
    "    # Classify the features with the lr model\n",
    "    prediction = lr_classifier.predict(features)\n",
    "    \n",
    "    # Interpret the prediction\n",
    "    class_labels = {0: 'MildDemented', 1: 'ModerateDemented',2: 'NonDemented',3:'VeryMildDemented'}  # Adjust based on your dataset labels\n",
    "    result = class_labels[prediction[0]]\n",
    "    return result\n",
    "\n",
    "# Test the function with a new image\n",
    "img_path = 'D:/ComputerVision/Task4/Alzheimer_s Dataset/Alzheimer_s Dataset/test/NonDemented/26 (88).jpg'\n",
    "result = classify_image(img_path)\n",
    "print(f\"The image is classified as: {result}\")\n"
   ]
  }
 ],
 "metadata": {
  "kernelspec": {
   "display_name": "Python 3",
   "language": "python",
   "name": "python3"
  },
  "language_info": {
   "codemirror_mode": {
    "name": "ipython",
    "version": 3
   },
   "file_extension": ".py",
   "mimetype": "text/x-python",
   "name": "python",
   "nbconvert_exporter": "python",
   "pygments_lexer": "ipython3",
   "version": "3.12.7"
  }
 },
 "nbformat": 4,
 "nbformat_minor": 5
}

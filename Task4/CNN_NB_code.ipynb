{
 "cells": [
  {
   "cell_type": "code",
   "execution_count": 1,
   "id": "bd84062f-c9a9-4aa5-b0f6-8ee2b91b4fc9",
   "metadata": {},
   "outputs": [],
   "source": [
    "from tensorflow.keras.preprocessing.image import ImageDataGenerator\n",
    "from keras.models import Sequential\n",
    "from keras.layers import Conv2D, MaxPooling2D, Activation, Dropout, Flatten, Dense\n",
    "from sklearn.naive_bayes import GaussianNB\n",
    "from sklearn.metrics import accuracy_score\n",
    "import numpy as np\n",
    "import joblib"
   ]
  },
  {
   "cell_type": "code",
   "execution_count": 2,
   "id": "13e8bc7a-75ef-42f8-946e-343c3e3451e7",
   "metadata": {},
   "outputs": [],
   "source": [
    "train_dir = 'D:/ComputerVision/Task4/Alzheimer_s Dataset/Alzheimer_s Dataset/train'  \n",
    "test_dir = 'D:/ComputerVision/Task4/Alzheimer_s Dataset/Alzheimer_s Dataset/test'"
   ]
  },
  {
   "cell_type": "code",
   "execution_count": 3,
   "id": "5b17c963-d4c0-4783-8435-f905aa8d0ef3",
   "metadata": {},
   "outputs": [],
   "source": [
    "# Set the input shape\n",
    "input_shape = (128, 128, 3)\n",
    "batch_size = 32"
   ]
  },
  {
   "cell_type": "code",
   "execution_count": 4,
   "id": "f5f7f461-1ace-448f-9fbf-002d667e4824",
   "metadata": {},
   "outputs": [],
   "source": [
    "# Use ImageDataGenerator for data augmentation\n",
    "data_generator = ImageDataGenerator(rescale=1./255)"
   ]
  },
  {
   "cell_type": "code",
   "execution_count": null,
   "id": "27eaf159-e2e9-4474-a753-92e04704ca81",
   "metadata": {},
   "outputs": [],
   "source": [
    "# Load the training images\n",
    "train_generator = data_generator.flow_from_directory(\n",
    "    train_dir,\n",
    "    target_size=(input_shape[0], input_shape[1]),\n",
    "    batch_size=batch_size,\n",
    "    class_mode='categorical',\n",
    "    shuffle=False)"
   ]
  },
  {
   "cell_type": "code",
   "execution_count": null,
   "id": "d97f57a0-4fd6-4f25-8795-734d3dcc1544",
   "metadata": {},
   "outputs": [],
   "source": [
    "# Load the test images\n",
    "test_generator = data_generator.flow_from_directory(\n",
    "    test_dir,\n",
    "    target_size=(input_shape[0], input_shape[1]),\n",
    "    batch_size=batch_size,\n",
    "    class_mode='categorical',\n",
    "    shuffle=False)"
   ]
  },
  {
   "cell_type": "code",
   "execution_count": null,
   "id": "0f9bb163-a4a1-4483-82cb-7e4d0ec9b0f8",
   "metadata": {},
   "outputs": [],
   "source": [
    "# Define the model architecture up to the feature extraction layer\n",
    "model = Sequential([\n",
    "    Conv2D(32, (3, 3), input_shape=input_shape),\n",
    "    Activation('relu'),\n",
    "    MaxPooling2D(pool_size=(2, 2)),\n",
    "    Conv2D(64, (3, 3)),\n",
    "    Activation('relu'),\n",
    "    MaxPooling2D(pool_size=(2, 2)),\n",
    "    Flatten(),\n",
    "    Dense(64),\n",
    "    Activation('relu'),\n",
    "    Dropout(0.5)\n",
    "])"
   ]
  },
  {
   "cell_type": "code",
   "execution_count": null,
   "id": "37803f66-3387-462c-9ff1-8f54b462fb9b",
   "metadata": {},
   "outputs": [],
   "source": [
    "# Extract features from training images \n",
    "train_features = model.predict(train_generator)\n",
    "train_features = train_features.reshape(train_features.shape[0], -1)  # Flatten features for classifier\n",
    "train_labels = train_generator.classes"
   ]
  },
  {
   "cell_type": "code",
   "execution_count": null,
   "id": "671f8616-725e-49c8-8e95-32b4b9fbf8b9",
   "metadata": {},
   "outputs": [],
   "source": [
    "# Extract features from test images \n",
    "test_features = model.predict(test_generator)\n",
    "test_features = test_features.reshape(test_features.shape[0], -1)\n",
    "test_labels = test_generator.classes"
   ]
  },
  {
   "cell_type": "code",
   "execution_count": null,
   "id": "eb104906-b6e7-422a-aa7e-51721704e9c3",
   "metadata": {},
   "outputs": [],
   "source": [
    "# Use Gaussian Naive Bayes classifier\n",
    "nb_classifier = GaussianNB()\n",
    "nb_classifier.fit(train_features, train_labels)\n"
   ]
  },
  {
   "cell_type": "code",
   "execution_count": 11,
   "id": "762f9afc-f26d-49ef-9c57-f30aee864937",
   "metadata": {},
   "outputs": [],
   "source": [
    "# Make predictions on the test data\n",
    "test_predictions = nb_classifier.predict(test_features)"
   ]
  },
  {
   "cell_type": "code",
   "execution_count": null,
   "id": "9dee839a-c730-4de7-a31c-49f089c885bf",
   "metadata": {},
   "outputs": [],
   "source": [
    "# Calculate accuracy\n",
    "test_accuracy = accuracy_score(test_labels, test_predictions)\n",
    "print(f\"Test Accuracy: {test_accuracy * 100:.2f}%\")"
   ]
  },
  {
   "cell_type": "code",
   "execution_count": null,
   "id": "f363adbe-034b-4eff-94e0-7a41a88852ed",
   "metadata": {},
   "outputs": [],
   "source": [
    "# Save the Keras CNN model as an .h5 file\n",
    "model.save('cnn_feature_extractor5.h5')"
   ]
  },
  {
   "cell_type": "code",
   "execution_count": null,
   "id": "fc9989aa-5d89-4f97-8f84-829a47b32000",
   "metadata": {},
   "outputs": [],
   "source": [
    "# Save the trained Naive Bayes model\n",
    "joblib.dump(nb_classifier, 'nb_classifier.pkl')"
   ]
  },
  {
   "cell_type": "code",
   "execution_count": null,
   "id": "34455e5b-6c60-444a-ae70-5c7ca693a6b0",
   "metadata": {},
   "outputs": [],
   "source": [
    "from keras.models import load_model\n",
    "import joblib\n",
    "import numpy as np\n",
    "from tensorflow.keras.preprocessing import image\n",
    "\n",
    "# Load the saved models\n",
    "cnn_model = load_model('cnn_feature_extractor5.h5')\n",
    "nb_classifier = joblib.load('nb_classifier.pkl')\n",
    "\n",
    "def classify_image(img_path):\n",
    "    # Load and preprocess the new image\n",
    "    img = image.load_img(img_path, target_size=(128, 128))  # Resize to match the CNN input\n",
    "    img_array = image.img_to_array(img)\n",
    "    img_array = np.expand_dims(img_array, axis=0)  # Add batch dimension\n",
    "    img_array /= 255.0  # Normalize to match the training preprocessing\n",
    "\n",
    "    # Extract features using the CNN model\n",
    "    features = cnn_model.predict(img_array)\n",
    "    features = features.reshape(1, -1)  # Flatten to 1D for nb\n",
    "\n",
    "    # Classify the features with the nb model\n",
    "    prediction = nb_classifier.predict(features)\n",
    "    \n",
    "    # Interpret the prediction\n",
    "    class_labels = {0: 'MildDemented', 1: 'ModerateDemented',2: 'NonDemented',3:'VeryMildDemented'}  # Adjust based on your dataset labels\n",
    "    result = class_labels[prediction[0]]\n",
    "    return result\n",
    "\n",
    "# Test the function with a \"D:/ComputerVision/Task4/Alzheimer_s Dataset/Alzheimer_s Dataset/test/ModerateDemented/29 (2).jpg\"new image\n",
    "img_path = \"D:/ComputerVision/Task4/Alzheimer_s Dataset/Alzheimer_s Dataset/test/VeryMildDemented/26.jpg\"\n",
    "result = classify_image(img_path)\n",
    "print(f\"The image is classified as: {result}\")\n"
   ]
  }
 ],
 "metadata": {
  "kernelspec": {
   "display_name": "Python 3",
   "language": "python",
   "name": "python3"
  },
  "language_info": {
   "codemirror_mode": {
    "name": "ipython",
    "version": 3
   },
   "file_extension": ".py",
   "mimetype": "text/x-python",
   "name": "python",
   "nbconvert_exporter": "python",
   "pygments_lexer": "ipython3",
   "version": "3.12.7"
  }
 },
 "nbformat": 4,
 "nbformat_minor": 5
}
